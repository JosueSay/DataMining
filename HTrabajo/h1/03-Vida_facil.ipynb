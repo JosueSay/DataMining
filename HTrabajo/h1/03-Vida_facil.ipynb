{
 "cells": [
  {
   "cell_type": "markdown",
   "id": "76658bdc",
   "metadata": {},
   "source": [
    "### Importar las librerías a utilizar"
   ]
  },
  {
   "cell_type": "code",
   "execution_count": 1,
   "id": "1b63a35b",
   "metadata": {
    "tags": []
   },
   "outputs": [
    {
     "name": "stderr",
     "output_type": "stream",
     "text": [
      "d:\\UVG GitHub Repositorios\\2025\\Mineria de Datos\\.data_mining_venv\\Lib\\site-packages\\tqdm\\auto.py:21: TqdmWarning: IProgress not found. Please update jupyter and ipywidgets. See https://ipywidgets.readthedocs.io/en/stable/user_install.html\n",
      "  from .autonotebook import tqdm as notebook_tqdm\n"
     ]
    }
   ],
   "source": [
    "import pandas as pd\n",
    "#from pandas_profiling import ProfileReport   # para versiones Python < 3.11\n",
    "from ydata_profiling import ProfileReport     # para versiones Python >= 3.11\n",
    "import matplotlib.pyplot as plt\n",
    "import seaborn as sns\n",
    "%matplotlib inline"
   ]
  },
  {
   "cell_type": "markdown",
   "id": "8a6fc844",
   "metadata": {},
   "source": [
    "### Leer archivo de datos"
   ]
  },
  {
   "cell_type": "code",
   "execution_count": 2,
   "id": "f93ab332",
   "metadata": {},
   "outputs": [],
   "source": [
    "datos = pd.read_csv(\"titanic3.csv\")"
   ]
  },
  {
   "cell_type": "code",
   "execution_count": null,
   "id": "c116dd2b",
   "metadata": {
    "scrolled": true
   },
   "outputs": [],
   "source": [
    "datos.head()"
   ]
  },
  {
   "cell_type": "code",
   "execution_count": null,
   "id": "0a944220-7f9b-4731-aa55-55f6fef38d0a",
   "metadata": {},
   "outputs": [],
   "source": [
    "datos.describe()"
   ]
  },
  {
   "cell_type": "code",
   "execution_count": null,
   "id": "a235c38f-132b-4b3b-b7fa-55454871dfde",
   "metadata": {},
   "outputs": [],
   "source": [
    "datos.info()"
   ]
  },
  {
   "cell_type": "code",
   "execution_count": null,
   "id": "c5c10d2f",
   "metadata": {},
   "outputs": [],
   "source": [
    "datos.shape"
   ]
  },
  {
   "cell_type": "markdown",
   "id": "37c59742",
   "metadata": {},
   "source": [
    "## Ejemplos de uso de Seaborn para explorar los datos"
   ]
  },
  {
   "cell_type": "code",
   "execution_count": null,
   "id": "45e60a93",
   "metadata": {},
   "outputs": [],
   "source": [
    "sns.displot(datos['pclass'])"
   ]
  },
  {
   "cell_type": "code",
   "execution_count": null,
   "id": "2624b559",
   "metadata": {},
   "outputs": [],
   "source": [
    "sns.countplot(x = 'sex', data = datos);"
   ]
  },
  {
   "cell_type": "markdown",
   "id": "05eb9852",
   "metadata": {},
   "source": [
    "### Pura Magia"
   ]
  },
  {
   "cell_type": "code",
   "execution_count": null,
   "id": "a582339e",
   "metadata": {
    "scrolled": true,
    "tags": []
   },
   "outputs": [],
   "source": [
    "profile = ProfileReport(datos)\n",
    "profile"
   ]
  },
  {
   "cell_type": "markdown",
   "id": "1c9bced2",
   "metadata": {},
   "source": [
    "Toda la información que nos da este reporte, la podemos obtener directamente con instrucciones de Pandas...obviamente, es mucho más simple dar una sola instrucción.\n",
    "\n",
    "### Conocemos los datos y ahora qué hacer para prepararlos (limpiarlos)?\n",
    "\n",
    "Pandas tiene todas las instrucciones para:\n",
    "1.  estandarizar los nombres de las variables\n",
    "2.  eliminar datos faltantes\n",
    "3.  eliminar registros duplicados\n",
    "4.  crear nuevas variables\n",
    "5.  etc.\n"
   ]
  },
  {
   "cell_type": "markdown",
   "id": "dfa912b6-0926-42c4-9a55-7cf572267bb4",
   "metadata": {},
   "source": [
    "###  Eliminar columnas\n",
    "\n",
    "La columna \"body\" normalmente no nos será útil, eliminémosla"
   ]
  },
  {
   "cell_type": "code",
   "execution_count": null,
   "id": "17d401ca-25fe-415d-a127-6d4bbbae90f1",
   "metadata": {},
   "outputs": [],
   "source": []
  },
  {
   "cell_type": "markdown",
   "id": "b24ef2b6-46c7-4c8e-877e-2177e0162702",
   "metadata": {},
   "source": [
    "### Cambiar el tipo de algunos datos\n",
    "\n",
    "Varias de las columnas son categóricas, habrá que codificarlas"
   ]
  },
  {
   "cell_type": "code",
   "execution_count": null,
   "id": "65ca7586-012d-4ac3-bc32-5961a8f3a9ce",
   "metadata": {},
   "outputs": [],
   "source": []
  },
  {
   "cell_type": "code",
   "execution_count": null,
   "id": "919990a0",
   "metadata": {},
   "outputs": [],
   "source": []
  },
  {
   "cell_type": "markdown",
   "id": "da0b0bde",
   "metadata": {},
   "source": [
    "### Estandarizar los nombres de las columnas:"
   ]
  },
  {
   "cell_type": "code",
   "execution_count": null,
   "id": "c310accc",
   "metadata": {},
   "outputs": [],
   "source": []
  },
  {
   "cell_type": "markdown",
   "id": "9d2c971c",
   "metadata": {},
   "source": [
    "### Eliminar filas duplicadas"
   ]
  },
  {
   "cell_type": "code",
   "execution_count": null,
   "id": "df511900",
   "metadata": {},
   "outputs": [],
   "source": []
  },
  {
   "cell_type": "markdown",
   "id": "da085141",
   "metadata": {},
   "source": [
    "### Reemplazar valores faltantes"
   ]
  },
  {
   "cell_type": "markdown",
   "id": "fba20d8d",
   "metadata": {},
   "source": [
    "### Eliminar filas con valores faltantes"
   ]
  },
  {
   "cell_type": "code",
   "execution_count": null,
   "id": "60f7bf18",
   "metadata": {},
   "outputs": [],
   "source": []
  },
  {
   "cell_type": "markdown",
   "id": "9d3107dc-4a60-4b6e-acf2-cf4f5f4540ca",
   "metadata": {},
   "source": [
    "### Explorar los datos numéricos\n",
    "\n",
    "Realizar Boxplots para cada uno"
   ]
  },
  {
   "cell_type": "code",
   "execution_count": null,
   "id": "1617a0df-0659-4e16-aff2-be85de3f8ae9",
   "metadata": {},
   "outputs": [],
   "source": []
  },
  {
   "cell_type": "markdown",
   "id": "3fcb1094-c740-41fa-9712-e25db8e1715a",
   "metadata": {},
   "source": [
    "### Explorar los datos categóricos\n",
    "\n",
    "Realizar gráficas de barras ej. de survived, sex"
   ]
  },
  {
   "cell_type": "code",
   "execution_count": null,
   "id": "3e9785d3-dd4f-4649-a074-eef7fa68edba",
   "metadata": {
    "tags": []
   },
   "outputs": [],
   "source": []
  },
  {
   "cell_type": "markdown",
   "id": "57e3e02d-b685-43ce-ba27-5c6925116896",
   "metadata": {},
   "source": [
    "Contrastar variables categóricas, por ej. survived vs sex con gráfica de barras apiladas (stacked)"
   ]
  },
  {
   "cell_type": "code",
   "execution_count": null,
   "id": "7b7608aa-32a2-495d-bf48-00fa767f9d4a",
   "metadata": {},
   "outputs": [],
   "source": []
  },
  {
   "cell_type": "markdown",
   "id": "15c0203a",
   "metadata": {},
   "source": [
    "### Reducir la cardinalidad\n",
    "\n",
    "Pueden haber columas con datos categóricos demasiados variados, se podría poner un límite de frecuencia de una categoría y las que no cumplen cambiarles a un valor ötros\", o algo así"
   ]
  },
  {
   "cell_type": "code",
   "execution_count": null,
   "id": "69724afe",
   "metadata": {},
   "outputs": [],
   "source": []
  },
  {
   "cell_type": "markdown",
   "id": "d2a4dae6",
   "metadata": {},
   "source": [
    "### Eliminar datos atípicos"
   ]
  },
  {
   "cell_type": "code",
   "execution_count": null,
   "id": "14ab8a1b",
   "metadata": {},
   "outputs": [],
   "source": []
  },
  {
   "cell_type": "code",
   "execution_count": null,
   "id": "dfdcc095-38a1-40a2-835f-eeafb88be7d8",
   "metadata": {},
   "outputs": [],
   "source": []
  }
 ],
 "metadata": {
  "kernelspec": {
   "display_name": ".data_mining_venv",
   "language": "python",
   "name": "python3"
  },
  "language_info": {
   "codemirror_mode": {
    "name": "ipython",
    "version": 3
   },
   "file_extension": ".py",
   "mimetype": "text/x-python",
   "name": "python",
   "nbconvert_exporter": "python",
   "pygments_lexer": "ipython3",
   "version": "3.12.3"
  }
 },
 "nbformat": 4,
 "nbformat_minor": 5
}
