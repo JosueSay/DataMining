{
 "cells": [
  {
   "cell_type": "markdown",
   "id": "76658bdc",
   "metadata": {},
   "source": [
    "### Importar las librerías a utilizar"
   ]
  },
  {
   "cell_type": "code",
   "execution_count": 2,
   "id": "1b63a35b",
   "metadata": {
    "tags": []
   },
   "outputs": [],
   "source": [
    "import pandas as pd\n",
    "#from pandas_profiling import ProfileReport   # para versiones Python < 3.11\n",
    "from ydata_profiling import ProfileReport     # para versiones Python >= 3.11\n",
    "import matplotlib.pyplot as plt\n",
    "import seaborn as sns\n",
    "%matplotlib inline"
   ]
  },
  {
   "cell_type": "markdown",
   "id": "8a6fc844",
   "metadata": {},
   "source": [
    "### Leer archivo de datos"
   ]
  },
  {
   "cell_type": "code",
   "execution_count": 3,
   "id": "f93ab332",
   "metadata": {},
   "outputs": [],
   "source": [
    "datos = pd.read_csv(\"titanic3.csv\")"
   ]
  },
  {
   "cell_type": "code",
   "execution_count": 4,
   "id": "c116dd2b",
   "metadata": {
    "scrolled": true
   },
   "outputs": [
    {
     "data": {
      "text/html": [
       "<div>\n",
       "<style scoped>\n",
       "    .dataframe tbody tr th:only-of-type {\n",
       "        vertical-align: middle;\n",
       "    }\n",
       "\n",
       "    .dataframe tbody tr th {\n",
       "        vertical-align: top;\n",
       "    }\n",
       "\n",
       "    .dataframe thead th {\n",
       "        text-align: right;\n",
       "    }\n",
       "</style>\n",
       "<table border=\"1\" class=\"dataframe\">\n",
       "  <thead>\n",
       "    <tr style=\"text-align: right;\">\n",
       "      <th></th>\n",
       "      <th>pclass</th>\n",
       "      <th>survived</th>\n",
       "      <th>name</th>\n",
       "      <th>sex</th>\n",
       "      <th>age</th>\n",
       "      <th>sibsp</th>\n",
       "      <th>parch</th>\n",
       "      <th>ticket</th>\n",
       "      <th>fare</th>\n",
       "      <th>cabin</th>\n",
       "      <th>embarked</th>\n",
       "      <th>boat</th>\n",
       "      <th>body</th>\n",
       "      <th>home.dest</th>\n",
       "    </tr>\n",
       "  </thead>\n",
       "  <tbody>\n",
       "    <tr>\n",
       "      <th>0</th>\n",
       "      <td>1</td>\n",
       "      <td>1</td>\n",
       "      <td>Allen, Miss. Elisabeth Walton</td>\n",
       "      <td>female</td>\n",
       "      <td>29.0000</td>\n",
       "      <td>0</td>\n",
       "      <td>0</td>\n",
       "      <td>24160</td>\n",
       "      <td>211.3375</td>\n",
       "      <td>B5</td>\n",
       "      <td>S</td>\n",
       "      <td>2</td>\n",
       "      <td>NaN</td>\n",
       "      <td>St Louis, MO</td>\n",
       "    </tr>\n",
       "    <tr>\n",
       "      <th>1</th>\n",
       "      <td>1</td>\n",
       "      <td>1</td>\n",
       "      <td>Allison, Master. Hudson Trevor</td>\n",
       "      <td>male</td>\n",
       "      <td>0.9167</td>\n",
       "      <td>1</td>\n",
       "      <td>2</td>\n",
       "      <td>113781</td>\n",
       "      <td>151.5500</td>\n",
       "      <td>C22 C26</td>\n",
       "      <td>S</td>\n",
       "      <td>11</td>\n",
       "      <td>NaN</td>\n",
       "      <td>Montreal, PQ / Chesterville, ON</td>\n",
       "    </tr>\n",
       "    <tr>\n",
       "      <th>2</th>\n",
       "      <td>1</td>\n",
       "      <td>0</td>\n",
       "      <td>Allison, Miss. Helen Loraine</td>\n",
       "      <td>female</td>\n",
       "      <td>2.0000</td>\n",
       "      <td>1</td>\n",
       "      <td>2</td>\n",
       "      <td>113781</td>\n",
       "      <td>151.5500</td>\n",
       "      <td>C22 C26</td>\n",
       "      <td>S</td>\n",
       "      <td>NaN</td>\n",
       "      <td>NaN</td>\n",
       "      <td>Montreal, PQ / Chesterville, ON</td>\n",
       "    </tr>\n",
       "    <tr>\n",
       "      <th>3</th>\n",
       "      <td>1</td>\n",
       "      <td>0</td>\n",
       "      <td>Allison, Mr. Hudson Joshua Creighton</td>\n",
       "      <td>male</td>\n",
       "      <td>30.0000</td>\n",
       "      <td>1</td>\n",
       "      <td>2</td>\n",
       "      <td>113781</td>\n",
       "      <td>151.5500</td>\n",
       "      <td>C22 C26</td>\n",
       "      <td>S</td>\n",
       "      <td>NaN</td>\n",
       "      <td>135.0</td>\n",
       "      <td>Montreal, PQ / Chesterville, ON</td>\n",
       "    </tr>\n",
       "    <tr>\n",
       "      <th>4</th>\n",
       "      <td>1</td>\n",
       "      <td>0</td>\n",
       "      <td>Allison, Mrs. Hudson J C (Bessie Waldo Daniels)</td>\n",
       "      <td>female</td>\n",
       "      <td>25.0000</td>\n",
       "      <td>1</td>\n",
       "      <td>2</td>\n",
       "      <td>113781</td>\n",
       "      <td>151.5500</td>\n",
       "      <td>C22 C26</td>\n",
       "      <td>S</td>\n",
       "      <td>NaN</td>\n",
       "      <td>NaN</td>\n",
       "      <td>Montreal, PQ / Chesterville, ON</td>\n",
       "    </tr>\n",
       "  </tbody>\n",
       "</table>\n",
       "</div>"
      ],
      "text/plain": [
       "   pclass  survived                                             name     sex  \\\n",
       "0       1         1                    Allen, Miss. Elisabeth Walton  female   \n",
       "1       1         1                   Allison, Master. Hudson Trevor    male   \n",
       "2       1         0                     Allison, Miss. Helen Loraine  female   \n",
       "3       1         0             Allison, Mr. Hudson Joshua Creighton    male   \n",
       "4       1         0  Allison, Mrs. Hudson J C (Bessie Waldo Daniels)  female   \n",
       "\n",
       "       age  sibsp  parch  ticket      fare    cabin embarked boat   body  \\\n",
       "0  29.0000      0      0   24160  211.3375       B5        S    2    NaN   \n",
       "1   0.9167      1      2  113781  151.5500  C22 C26        S   11    NaN   \n",
       "2   2.0000      1      2  113781  151.5500  C22 C26        S  NaN    NaN   \n",
       "3  30.0000      1      2  113781  151.5500  C22 C26        S  NaN  135.0   \n",
       "4  25.0000      1      2  113781  151.5500  C22 C26        S  NaN    NaN   \n",
       "\n",
       "                         home.dest  \n",
       "0                     St Louis, MO  \n",
       "1  Montreal, PQ / Chesterville, ON  \n",
       "2  Montreal, PQ / Chesterville, ON  \n",
       "3  Montreal, PQ / Chesterville, ON  \n",
       "4  Montreal, PQ / Chesterville, ON  "
      ]
     },
     "execution_count": 4,
     "metadata": {},
     "output_type": "execute_result"
    }
   ],
   "source": [
    "datos.head()"
   ]
  },
  {
   "cell_type": "code",
   "execution_count": null,
   "id": "0a944220-7f9b-4731-aa55-55f6fef38d0a",
   "metadata": {},
   "outputs": [],
   "source": [
    "datos.describe()"
   ]
  },
  {
   "cell_type": "code",
   "execution_count": null,
   "id": "a235c38f-132b-4b3b-b7fa-55454871dfde",
   "metadata": {},
   "outputs": [],
   "source": [
    "datos.info()"
   ]
  },
  {
   "cell_type": "code",
   "execution_count": null,
   "id": "c5c10d2f",
   "metadata": {},
   "outputs": [],
   "source": [
    "datos.shape"
   ]
  },
  {
   "cell_type": "markdown",
   "id": "37c59742",
   "metadata": {},
   "source": [
    "## Ejemplos de uso de Seaborn para explorar los datos"
   ]
  },
  {
   "cell_type": "code",
   "execution_count": null,
   "id": "45e60a93",
   "metadata": {},
   "outputs": [],
   "source": [
    "sns.displot(datos['pclass'])"
   ]
  },
  {
   "cell_type": "code",
   "execution_count": null,
   "id": "2624b559",
   "metadata": {},
   "outputs": [],
   "source": [
    "sns.countplot(x = 'sex', data = datos);"
   ]
  },
  {
   "cell_type": "markdown",
   "id": "05eb9852",
   "metadata": {},
   "source": [
    "### Pura Magia"
   ]
  },
  {
   "cell_type": "code",
   "execution_count": null,
   "id": "a582339e",
   "metadata": {
    "scrolled": true,
    "tags": []
   },
   "outputs": [],
   "source": [
    "profile = ProfileReport(datos)\n",
    "profile"
   ]
  },
  {
   "cell_type": "markdown",
   "id": "1c9bced2",
   "metadata": {},
   "source": [
    "Toda la información que nos da este reporte, la podemos obtener directamente con instrucciones de Pandas...obviamente, es mucho más simple dar una sola instrucción.\n",
    "\n",
    "### Conocemos los datos y ahora qué hacer para prepararlos (limpiarlos)?\n",
    "\n",
    "Pandas tiene todas las instrucciones para:\n",
    "1.  estandarizar los nombres de las variables\n",
    "2.  eliminar datos faltantes\n",
    "3.  eliminar registros duplicados\n",
    "4.  crear nuevas variables\n",
    "5.  etc.\n"
   ]
  },
  {
   "cell_type": "markdown",
   "id": "dfa912b6-0926-42c4-9a55-7cf572267bb4",
   "metadata": {},
   "source": [
    "###  Eliminar columnas\n",
    "\n",
    "La columna \"body\" normalmente no nos será útil, eliminémosla"
   ]
  },
  {
   "cell_type": "code",
   "execution_count": 5,
   "id": "17d401ca-25fe-415d-a127-6d4bbbae90f1",
   "metadata": {},
   "outputs": [],
   "source": [
    "datos = datos.drop(labels=\"body\", axis=1)"
   ]
  },
  {
   "cell_type": "markdown",
   "id": "89a11864",
   "metadata": {},
   "source": [
    "#### **Respuesta a Inciso**\n",
    "\n",
    "Utilizando la función drop se elimina la columna `body`."
   ]
  },
  {
   "cell_type": "markdown",
   "id": "b24ef2b6-46c7-4c8e-877e-2177e0162702",
   "metadata": {},
   "source": [
    "### Cambiar el tipo de algunos datos\n",
    "\n",
    "Varias de las columnas son categóricas, habrá que codificarlas"
   ]
  },
  {
   "cell_type": "code",
   "execution_count": 6,
   "id": "919990a0",
   "metadata": {},
   "outputs": [],
   "source": [
    "import numpy as np\n",
    "from sklearn.compose import ColumnTransformer\n",
    "from sklearn.preprocessing import OneHotEncoder"
   ]
  },
  {
   "cell_type": "code",
   "execution_count": 72,
   "id": "ccff6b40",
   "metadata": {},
   "outputs": [],
   "source": [
    "dataTransf = pd.DataFrame()  # DataFrame final\n",
    "nominalTransfCol = OneHotEncoder(sparse_output=False)  \n",
    "vNominal = [\"sex\",\"ticket\",\"cabin\",\"embarked\",\"boat\",\"home.dest\"]\n",
    "# vNominal = [\"sex\"]\n",
    "categorias = {}  # Diccionario para almacenar las categorías en orden\n",
    "\n",
    "# Transformar variables categóricas y añadirlas al DataFrame\n",
    "for var in vNominal:\n",
    "    # Obtener el df y sus valores\n",
    "    dc_parser = datos[var].values.reshape(-1, 1)\n",
    "\n",
    "    # Transformar los datos\n",
    "    dc_parser_transformed = nominalTransfCol.fit_transform(dc_parser)\n",
    "    \n",
    "    # Obtener los nombres de las categorías y almacenarlas en el diccionario\n",
    "    categorias[var] = nominalTransfCol.categories_[0].tolist()\n",
    "\n",
    "    # Obtener los nombres de columnas generadas\n",
    "    dc_temp_column_name = [var + \"_\" + str(j) for j in range(dc_parser_transformed.shape[1])]\n",
    "\n",
    "    # Convertir a DataFrame y concatenar\n",
    "    dc_temp = pd.DataFrame(dc_parser_transformed, columns=dc_temp_column_name)\n",
    "    dataTransf = pd.concat([dataTransf, dc_temp], axis=1)"
   ]
  },
  {
   "cell_type": "markdown",
   "id": "4f0126b7",
   "metadata": {},
   "source": [
    "#### **Respuesta a Inciso: `Cambiar el Tipo de Algunos Datos`**\n",
    "\n",
    "**Explicación código:**\n",
    "  1. Al obtener el df y sus valores se transforma la columna con sus observaciones a un objeto `array de numpy` en `2 dimensiones` porque OneHotEncoder trabaja con este tipo de objetos.\n",
    "    1.1 `reshape(-1,1)`: el -1 indica que haga la cantidad de observaciones necesarias y 1 indica que deben estar en una columna.\n",
    "  2. Se transforman los datos usando fit_transform\n",
    "  3. Se obtienen las diferentes categorías de la columna que se transformó mediante `categories_[0]` porque una vez hecho fit esas distintas categorías se almacenan en un array y dado que se hace por columna solo hay una columna en `categories_` y se guarda en el diccionario de categorias.\n",
    "  4. Se hace un listado con el nombre de columnas con la sintaxis **columna_iteracion**.\n",
    "  5. Se hace un df con los datos transformados y colocandole nombre a las columnas con el listado anterior y concatenandolo al df final.\n",
    "\n",
    "En este punto se tiene los dataframes:\n",
    "\n",
    "- data: este es el dataframe original (quitando la columna body que no será utilizada).\n",
    "- dataTransf: este es el dataframe con las variables nominales transformadas a numéricas.\n",
    "  - En el caso de variables nominales se realiza una conversión siguiendo OneHotEncoding de SkLearn para variables nominales como sex, ticket, cabin, embarked, boat, home.dest."
   ]
  },
  {
   "cell_type": "markdown",
   "id": "da0b0bde",
   "metadata": {},
   "source": [
    "### Estandarizar los nombres de las columnas:"
   ]
  },
  {
   "cell_type": "code",
   "execution_count": 176,
   "id": "de2ffc36",
   "metadata": {},
   "outputs": [],
   "source": [
    "numCol = 0\n",
    "new_columns = dataTransf.columns.to_list() # Obtener el listado de nombre de columnas en un listado\n",
    "\n",
    "# Obtener nuevos nombres de columnas\n",
    "for col in vNominal:\n",
    "    cat = categorias[col]\n",
    "    for nCat in range(len(cat)):\n",
    "        if pd.isna(cat[nCat]):\n",
    "            continue  # Si la categoría es NaN, omitirla\n",
    "        new_columns[numCol] = f\"{col}_{cat[nCat]}\"\n",
    "        numCol += 1\n",
    "\n",
    "dataTransf.columns = new_columns # Estandarizar el nombre de las columnas"
   ]
  },
  {
   "cell_type": "markdown",
   "id": "8234dab8",
   "metadata": {},
   "source": [
    "#### **Respuesta a Inciso: `Estandarizar los nombres de las columnas`**\n",
    "\n",
    "Dado que por parte de OneHotEncoder tenemos las diferentes categorías y el algoritmo divide en varias columnas para colocar un 1 si pertenece a dicha categoría y 0 si no.\n",
    "\n",
    "> Nota: esto lo hace en orden alfabetico si no se dice lo contrario.\n",
    "\n",
    "Por lo tanto se puede colocar el nombre asociado a la categoría a cada columna por ejemplo **sex_female y sex_male** sabiendo que el orden de las categorias de las columnas obtenido por OneHotEncoder estan en el mismo orden que las columnas los datos mantendran orden."
   ]
  },
  {
   "cell_type": "code",
   "execution_count": 102,
   "id": "89b6bc9a",
   "metadata": {},
   "outputs": [
    {
     "data": {
      "text/html": [
       "<div>\n",
       "<style scoped>\n",
       "    .dataframe tbody tr th:only-of-type {\n",
       "        vertical-align: middle;\n",
       "    }\n",
       "\n",
       "    .dataframe tbody tr th {\n",
       "        vertical-align: top;\n",
       "    }\n",
       "\n",
       "    .dataframe thead th {\n",
       "        text-align: right;\n",
       "    }\n",
       "</style>\n",
       "<table border=\"1\" class=\"dataframe\">\n",
       "  <thead>\n",
       "    <tr style=\"text-align: right;\">\n",
       "      <th></th>\n",
       "      <th>sex_female</th>\n",
       "      <th>sex_male</th>\n",
       "      <th>ticket_110152</th>\n",
       "      <th>ticket_110413</th>\n",
       "      <th>ticket_110465</th>\n",
       "      <th>ticket_110469</th>\n",
       "      <th>ticket_110489</th>\n",
       "      <th>ticket_110564</th>\n",
       "      <th>ticket_110813</th>\n",
       "      <th>ticket_111163</th>\n",
       "      <th>...</th>\n",
       "      <th>home.dest_Windsor, England New York, NY</th>\n",
       "      <th>home.dest_Winnipeg, MB</th>\n",
       "      <th>home.dest_Winnipeg, MN</th>\n",
       "      <th>home.dest_Woodford County, KY</th>\n",
       "      <th>home.dest_Worcester, England</th>\n",
       "      <th>home.dest_Worcester, MA</th>\n",
       "      <th>home.dest_Yoevil, England / Cottage Grove, OR</th>\n",
       "      <th>home.dest_Youngstown, OH</th>\n",
       "      <th>home.dest_Zurich, Switzerland</th>\n",
       "      <th>home.dest_nan</th>\n",
       "    </tr>\n",
       "  </thead>\n",
       "  <tbody>\n",
       "    <tr>\n",
       "      <th>0</th>\n",
       "      <td>1.0</td>\n",
       "      <td>0.0</td>\n",
       "      <td>0.0</td>\n",
       "      <td>0.0</td>\n",
       "      <td>0.0</td>\n",
       "      <td>0.0</td>\n",
       "      <td>0.0</td>\n",
       "      <td>0.0</td>\n",
       "      <td>0.0</td>\n",
       "      <td>0.0</td>\n",
       "      <td>...</td>\n",
       "      <td>0.0</td>\n",
       "      <td>0.0</td>\n",
       "      <td>0.0</td>\n",
       "      <td>0.0</td>\n",
       "      <td>0.0</td>\n",
       "      <td>0.0</td>\n",
       "      <td>0.0</td>\n",
       "      <td>0.0</td>\n",
       "      <td>0.0</td>\n",
       "      <td>0.0</td>\n",
       "    </tr>\n",
       "    <tr>\n",
       "      <th>1</th>\n",
       "      <td>0.0</td>\n",
       "      <td>1.0</td>\n",
       "      <td>0.0</td>\n",
       "      <td>0.0</td>\n",
       "      <td>0.0</td>\n",
       "      <td>0.0</td>\n",
       "      <td>0.0</td>\n",
       "      <td>0.0</td>\n",
       "      <td>0.0</td>\n",
       "      <td>0.0</td>\n",
       "      <td>...</td>\n",
       "      <td>0.0</td>\n",
       "      <td>0.0</td>\n",
       "      <td>0.0</td>\n",
       "      <td>0.0</td>\n",
       "      <td>0.0</td>\n",
       "      <td>0.0</td>\n",
       "      <td>0.0</td>\n",
       "      <td>0.0</td>\n",
       "      <td>0.0</td>\n",
       "      <td>0.0</td>\n",
       "    </tr>\n",
       "    <tr>\n",
       "      <th>2</th>\n",
       "      <td>1.0</td>\n",
       "      <td>0.0</td>\n",
       "      <td>0.0</td>\n",
       "      <td>0.0</td>\n",
       "      <td>0.0</td>\n",
       "      <td>0.0</td>\n",
       "      <td>0.0</td>\n",
       "      <td>0.0</td>\n",
       "      <td>0.0</td>\n",
       "      <td>0.0</td>\n",
       "      <td>...</td>\n",
       "      <td>0.0</td>\n",
       "      <td>0.0</td>\n",
       "      <td>0.0</td>\n",
       "      <td>0.0</td>\n",
       "      <td>0.0</td>\n",
       "      <td>0.0</td>\n",
       "      <td>0.0</td>\n",
       "      <td>0.0</td>\n",
       "      <td>0.0</td>\n",
       "      <td>0.0</td>\n",
       "    </tr>\n",
       "    <tr>\n",
       "      <th>3</th>\n",
       "      <td>0.0</td>\n",
       "      <td>1.0</td>\n",
       "      <td>0.0</td>\n",
       "      <td>0.0</td>\n",
       "      <td>0.0</td>\n",
       "      <td>0.0</td>\n",
       "      <td>0.0</td>\n",
       "      <td>0.0</td>\n",
       "      <td>0.0</td>\n",
       "      <td>0.0</td>\n",
       "      <td>...</td>\n",
       "      <td>0.0</td>\n",
       "      <td>0.0</td>\n",
       "      <td>0.0</td>\n",
       "      <td>0.0</td>\n",
       "      <td>0.0</td>\n",
       "      <td>0.0</td>\n",
       "      <td>0.0</td>\n",
       "      <td>0.0</td>\n",
       "      <td>0.0</td>\n",
       "      <td>0.0</td>\n",
       "    </tr>\n",
       "    <tr>\n",
       "      <th>4</th>\n",
       "      <td>1.0</td>\n",
       "      <td>0.0</td>\n",
       "      <td>0.0</td>\n",
       "      <td>0.0</td>\n",
       "      <td>0.0</td>\n",
       "      <td>0.0</td>\n",
       "      <td>0.0</td>\n",
       "      <td>0.0</td>\n",
       "      <td>0.0</td>\n",
       "      <td>0.0</td>\n",
       "      <td>...</td>\n",
       "      <td>0.0</td>\n",
       "      <td>0.0</td>\n",
       "      <td>0.0</td>\n",
       "      <td>0.0</td>\n",
       "      <td>0.0</td>\n",
       "      <td>0.0</td>\n",
       "      <td>0.0</td>\n",
       "      <td>0.0</td>\n",
       "      <td>0.0</td>\n",
       "      <td>0.0</td>\n",
       "    </tr>\n",
       "    <tr>\n",
       "      <th>...</th>\n",
       "      <td>...</td>\n",
       "      <td>...</td>\n",
       "      <td>...</td>\n",
       "      <td>...</td>\n",
       "      <td>...</td>\n",
       "      <td>...</td>\n",
       "      <td>...</td>\n",
       "      <td>...</td>\n",
       "      <td>...</td>\n",
       "      <td>...</td>\n",
       "      <td>...</td>\n",
       "      <td>...</td>\n",
       "      <td>...</td>\n",
       "      <td>...</td>\n",
       "      <td>...</td>\n",
       "      <td>...</td>\n",
       "      <td>...</td>\n",
       "      <td>...</td>\n",
       "      <td>...</td>\n",
       "      <td>...</td>\n",
       "      <td>...</td>\n",
       "    </tr>\n",
       "    <tr>\n",
       "      <th>1304</th>\n",
       "      <td>1.0</td>\n",
       "      <td>0.0</td>\n",
       "      <td>0.0</td>\n",
       "      <td>0.0</td>\n",
       "      <td>0.0</td>\n",
       "      <td>0.0</td>\n",
       "      <td>0.0</td>\n",
       "      <td>0.0</td>\n",
       "      <td>0.0</td>\n",
       "      <td>0.0</td>\n",
       "      <td>...</td>\n",
       "      <td>0.0</td>\n",
       "      <td>0.0</td>\n",
       "      <td>0.0</td>\n",
       "      <td>0.0</td>\n",
       "      <td>0.0</td>\n",
       "      <td>0.0</td>\n",
       "      <td>0.0</td>\n",
       "      <td>0.0</td>\n",
       "      <td>0.0</td>\n",
       "      <td>1.0</td>\n",
       "    </tr>\n",
       "    <tr>\n",
       "      <th>1305</th>\n",
       "      <td>1.0</td>\n",
       "      <td>0.0</td>\n",
       "      <td>0.0</td>\n",
       "      <td>0.0</td>\n",
       "      <td>0.0</td>\n",
       "      <td>0.0</td>\n",
       "      <td>0.0</td>\n",
       "      <td>0.0</td>\n",
       "      <td>0.0</td>\n",
       "      <td>0.0</td>\n",
       "      <td>...</td>\n",
       "      <td>0.0</td>\n",
       "      <td>0.0</td>\n",
       "      <td>0.0</td>\n",
       "      <td>0.0</td>\n",
       "      <td>0.0</td>\n",
       "      <td>0.0</td>\n",
       "      <td>0.0</td>\n",
       "      <td>0.0</td>\n",
       "      <td>0.0</td>\n",
       "      <td>1.0</td>\n",
       "    </tr>\n",
       "    <tr>\n",
       "      <th>1306</th>\n",
       "      <td>0.0</td>\n",
       "      <td>1.0</td>\n",
       "      <td>0.0</td>\n",
       "      <td>0.0</td>\n",
       "      <td>0.0</td>\n",
       "      <td>0.0</td>\n",
       "      <td>0.0</td>\n",
       "      <td>0.0</td>\n",
       "      <td>0.0</td>\n",
       "      <td>0.0</td>\n",
       "      <td>...</td>\n",
       "      <td>0.0</td>\n",
       "      <td>0.0</td>\n",
       "      <td>0.0</td>\n",
       "      <td>0.0</td>\n",
       "      <td>0.0</td>\n",
       "      <td>0.0</td>\n",
       "      <td>0.0</td>\n",
       "      <td>0.0</td>\n",
       "      <td>0.0</td>\n",
       "      <td>1.0</td>\n",
       "    </tr>\n",
       "    <tr>\n",
       "      <th>1307</th>\n",
       "      <td>0.0</td>\n",
       "      <td>1.0</td>\n",
       "      <td>0.0</td>\n",
       "      <td>0.0</td>\n",
       "      <td>0.0</td>\n",
       "      <td>0.0</td>\n",
       "      <td>0.0</td>\n",
       "      <td>0.0</td>\n",
       "      <td>0.0</td>\n",
       "      <td>0.0</td>\n",
       "      <td>...</td>\n",
       "      <td>0.0</td>\n",
       "      <td>0.0</td>\n",
       "      <td>0.0</td>\n",
       "      <td>0.0</td>\n",
       "      <td>0.0</td>\n",
       "      <td>0.0</td>\n",
       "      <td>0.0</td>\n",
       "      <td>0.0</td>\n",
       "      <td>0.0</td>\n",
       "      <td>1.0</td>\n",
       "    </tr>\n",
       "    <tr>\n",
       "      <th>1308</th>\n",
       "      <td>0.0</td>\n",
       "      <td>1.0</td>\n",
       "      <td>0.0</td>\n",
       "      <td>0.0</td>\n",
       "      <td>0.0</td>\n",
       "      <td>0.0</td>\n",
       "      <td>0.0</td>\n",
       "      <td>0.0</td>\n",
       "      <td>0.0</td>\n",
       "      <td>0.0</td>\n",
       "      <td>...</td>\n",
       "      <td>0.0</td>\n",
       "      <td>0.0</td>\n",
       "      <td>0.0</td>\n",
       "      <td>0.0</td>\n",
       "      <td>0.0</td>\n",
       "      <td>0.0</td>\n",
       "      <td>0.0</td>\n",
       "      <td>0.0</td>\n",
       "      <td>0.0</td>\n",
       "      <td>1.0</td>\n",
       "    </tr>\n",
       "  </tbody>\n",
       "</table>\n",
       "<p>1309 rows × 1520 columns</p>\n",
       "</div>"
      ],
      "text/plain": [
       "      sex_female  sex_male  ticket_110152  ticket_110413  ticket_110465  \\\n",
       "0            1.0       0.0            0.0            0.0            0.0   \n",
       "1            0.0       1.0            0.0            0.0            0.0   \n",
       "2            1.0       0.0            0.0            0.0            0.0   \n",
       "3            0.0       1.0            0.0            0.0            0.0   \n",
       "4            1.0       0.0            0.0            0.0            0.0   \n",
       "...          ...       ...            ...            ...            ...   \n",
       "1304         1.0       0.0            0.0            0.0            0.0   \n",
       "1305         1.0       0.0            0.0            0.0            0.0   \n",
       "1306         0.0       1.0            0.0            0.0            0.0   \n",
       "1307         0.0       1.0            0.0            0.0            0.0   \n",
       "1308         0.0       1.0            0.0            0.0            0.0   \n",
       "\n",
       "      ticket_110469  ticket_110489  ticket_110564  ticket_110813  \\\n",
       "0               0.0            0.0            0.0            0.0   \n",
       "1               0.0            0.0            0.0            0.0   \n",
       "2               0.0            0.0            0.0            0.0   \n",
       "3               0.0            0.0            0.0            0.0   \n",
       "4               0.0            0.0            0.0            0.0   \n",
       "...             ...            ...            ...            ...   \n",
       "1304            0.0            0.0            0.0            0.0   \n",
       "1305            0.0            0.0            0.0            0.0   \n",
       "1306            0.0            0.0            0.0            0.0   \n",
       "1307            0.0            0.0            0.0            0.0   \n",
       "1308            0.0            0.0            0.0            0.0   \n",
       "\n",
       "      ticket_111163  ...  home.dest_Windsor, England New York, NY  \\\n",
       "0               0.0  ...                                      0.0   \n",
       "1               0.0  ...                                      0.0   \n",
       "2               0.0  ...                                      0.0   \n",
       "3               0.0  ...                                      0.0   \n",
       "4               0.0  ...                                      0.0   \n",
       "...             ...  ...                                      ...   \n",
       "1304            0.0  ...                                      0.0   \n",
       "1305            0.0  ...                                      0.0   \n",
       "1306            0.0  ...                                      0.0   \n",
       "1307            0.0  ...                                      0.0   \n",
       "1308            0.0  ...                                      0.0   \n",
       "\n",
       "      home.dest_Winnipeg, MB  home.dest_Winnipeg, MN  \\\n",
       "0                        0.0                     0.0   \n",
       "1                        0.0                     0.0   \n",
       "2                        0.0                     0.0   \n",
       "3                        0.0                     0.0   \n",
       "4                        0.0                     0.0   \n",
       "...                      ...                     ...   \n",
       "1304                     0.0                     0.0   \n",
       "1305                     0.0                     0.0   \n",
       "1306                     0.0                     0.0   \n",
       "1307                     0.0                     0.0   \n",
       "1308                     0.0                     0.0   \n",
       "\n",
       "      home.dest_Woodford County, KY  home.dest_Worcester, England  \\\n",
       "0                               0.0                           0.0   \n",
       "1                               0.0                           0.0   \n",
       "2                               0.0                           0.0   \n",
       "3                               0.0                           0.0   \n",
       "4                               0.0                           0.0   \n",
       "...                             ...                           ...   \n",
       "1304                            0.0                           0.0   \n",
       "1305                            0.0                           0.0   \n",
       "1306                            0.0                           0.0   \n",
       "1307                            0.0                           0.0   \n",
       "1308                            0.0                           0.0   \n",
       "\n",
       "      home.dest_Worcester, MA  home.dest_Yoevil, England / Cottage Grove, OR  \\\n",
       "0                         0.0                                            0.0   \n",
       "1                         0.0                                            0.0   \n",
       "2                         0.0                                            0.0   \n",
       "3                         0.0                                            0.0   \n",
       "4                         0.0                                            0.0   \n",
       "...                       ...                                            ...   \n",
       "1304                      0.0                                            0.0   \n",
       "1305                      0.0                                            0.0   \n",
       "1306                      0.0                                            0.0   \n",
       "1307                      0.0                                            0.0   \n",
       "1308                      0.0                                            0.0   \n",
       "\n",
       "      home.dest_Youngstown, OH  home.dest_Zurich, Switzerland  home.dest_nan  \n",
       "0                          0.0                            0.0            0.0  \n",
       "1                          0.0                            0.0            0.0  \n",
       "2                          0.0                            0.0            0.0  \n",
       "3                          0.0                            0.0            0.0  \n",
       "4                          0.0                            0.0            0.0  \n",
       "...                        ...                            ...            ...  \n",
       "1304                       0.0                            0.0            1.0  \n",
       "1305                       0.0                            0.0            1.0  \n",
       "1306                       0.0                            0.0            1.0  \n",
       "1307                       0.0                            0.0            1.0  \n",
       "1308                       0.0                            0.0            1.0  \n",
       "\n",
       "[1309 rows x 1520 columns]"
      ]
     },
     "execution_count": 102,
     "metadata": {},
     "output_type": "execute_result"
    }
   ],
   "source": [
    "dataTransf"
   ]
  },
  {
   "cell_type": "markdown",
   "id": "9d2c971c",
   "metadata": {},
   "source": [
    "### Eliminar filas duplicadas"
   ]
  },
  {
   "cell_type": "code",
   "execution_count": 177,
   "id": "df511900",
   "metadata": {},
   "outputs": [
    {
     "name": "stdout",
     "output_type": "stream",
     "text": [
      "No hay observaciones duplicadas.\n"
     ]
    }
   ],
   "source": [
    "datos_num = datos[[\"pclass\", \"survived\", \"name\", \"age\", \"sibsp\", \"parch\", \"fare\"]]\n",
    "titanic = pd.concat([datos_num, dataTransf], axis=1)\n",
    "\n",
    "duplicados = titanic.duplicated().sum()\n",
    "\n",
    "if duplicados > 0:\n",
    "  duplicados = duplicados.drop_duplicates()\n",
    "  print(f\"Se eliminaron {duplicados} observaciones.\")\n",
    "else:\n",
    "  print(\"No hay observaciones duplicadas.\")"
   ]
  },
  {
   "cell_type": "markdown",
   "id": "f0dfea0b",
   "metadata": {},
   "source": [
    "#### **Respuesta Inciso: `Eliminar filas duplicadas`**\n",
    "\n",
    "Uniendo los DataFrame en uno solo contando los `numéricos` de datos y los \"`categoricos`\" de dataTransf se cuenta las observaciones duplicadas, en caso que hubieran *(no es el caso)* se eliminan.\n"
   ]
  },
  {
   "cell_type": "markdown",
   "id": "da085141",
   "metadata": {},
   "source": [
    "### Reemplazar valores faltantes"
   ]
  },
  {
   "cell_type": "markdown",
   "id": "fba20d8d",
   "metadata": {},
   "source": [
    "### Eliminar filas con valores faltantes"
   ]
  },
  {
   "cell_type": "code",
   "execution_count": 178,
   "id": "60f7bf18",
   "metadata": {},
   "outputs": [
    {
     "name": "stdout",
     "output_type": "stream",
     "text": [
      "Existen 264 observaciones NaN\n"
     ]
    }
   ],
   "source": [
    "res_nan = titanic.isnull().sum()\n",
    "\n",
    "if res_nan.sum() > 0:\n",
    "    print(f\"Existen {res_nan.sum()} observaciones NaN\")\n",
    "    titanic.dropna(inplace=True)\n",
    "else:\n",
    "    print(\"No existen valores NaN\")\n"
   ]
  },
  {
   "cell_type": "code",
   "execution_count": 179,
   "id": "b5b99e81",
   "metadata": {},
   "outputs": [
    {
     "data": {
      "text/plain": [
       "pclass                                           0\n",
       "survived                                         0\n",
       "name                                             0\n",
       "age                                              0\n",
       "sibsp                                            0\n",
       "                                                ..\n",
       "home.dest_Zurich, Switzerland                    0\n",
       "home.dest_Yoevil, England / Cottage Grove, OR    0\n",
       "home.dest_Youngstown, OH                         0\n",
       "home.dest_Zurich, Switzerland                    0\n",
       "home.dest_nan                                    0\n",
       "Length: 1527, dtype: int64"
      ]
     },
     "execution_count": 179,
     "metadata": {},
     "output_type": "execute_result"
    }
   ],
   "source": [
    "titanic.isnull().sum()"
   ]
  },
  {
   "cell_type": "markdown",
   "id": "4afdc243",
   "metadata": {},
   "source": [
    "#### **Respuesta Inciso: `Eliminar  con valores faltantes`**\n",
    "\n",
    "Si existen valores nan se eliminan detectacdolos con `isnull().sum().sum()` en tal caso caso se eliminarán las observaciones asociadas a los valores nan."
   ]
  },
  {
   "cell_type": "markdown",
   "id": "9d3107dc-4a60-4b6e-acf2-cf4f5f4540ca",
   "metadata": {},
   "source": [
    "### Explorar los datos numéricos\n",
    "\n",
    "Realizar Boxplots para cada uno"
   ]
  },
  {
   "cell_type": "code",
   "execution_count": 180,
   "id": "1617a0df-0659-4e16-aff2-be85de3f8ae9",
   "metadata": {},
   "outputs": [],
   "source": [
    "ageDF = titanic[\"age\"]\n",
    "fareDF = titanic[\"fare\"]\n",
    "sibspDF = titanic[\"sibsp\"]\n",
    "parchDF = titanic[\"parch\"]"
   ]
  },
  {
   "cell_type": "markdown",
   "id": "eeb80e54",
   "metadata": {},
   "source": [
    "##### **BoxPlot: Age**\n",
    "\n",
    "Los datos reflejan que existe una variabilidad de los años de los pasajeros entre 20 y 40 años con una media entre 28 - 30 años indicando que el 50% de las personas tenían una edad menor a esa indicando que los datos se inclinan levemente (y podría considerarse casi una distribución simétrica) a tener más personas jóvenes. con una distribución asimétrica debido a esto. Si embargo, existen datos atípicos después de ~68 años."
   ]
  },
  {
   "cell_type": "code",
   "execution_count": 83,
   "id": "94f7e360",
   "metadata": {},
   "outputs": [
    {
     "data": {
      "image/png": "[encoded data removed]",
      "text/plain": [
       "<Figure size 640x480 with 1 Axes>"
      ]
     },
     "metadata": {},
     "output_type": "display_data"
    }
   ],
   "source": [
    "sns.boxplot(data=ageDF, orient=\"h\")\n",
    "plt.title(\"Distribución de Edad (age) en el Titanic\", fontsize=14)\n",
    "plt.show()"
   ]
  },
  {
   "cell_type": "markdown",
   "id": "83bb3a4f",
   "metadata": {},
   "source": [
    "##### **BoxPlot: Fare**\n",
    "\n",
    "Los datos reflejan que existe una concentración de las tarifas de los tickets entre 0 y 50 libras, con un máximo cercano a 100 libras y datos atípicos en el rango de 100 a 300 libras, además de uno de 500 libras. Esto puede indicar una distribución de personas según la clase social: los datos atípicos probablemente representan a los pasajeros de primera clase, mientras que los valores concentrados corresponden a quienes viajaban en segunda y tercera clase. Sin embargo, se observa que la mediana está aproximadamente en 10 libras, lo que significa que el 50% de los valores de tarifa son menores o iguales a este valor, y a partir de ahí el precio aumenta considerablemente."
   ]
  },
  {
   "cell_type": "code",
   "execution_count": 84,
   "id": "9c8576b2",
   "metadata": {},
   "outputs": [
    {
     "data": {
      "image/png": "[encoded data removed]",
      "text/plain": [
       "<Figure size 640x480 with 1 Axes>"
      ]
     },
     "metadata": {},
     "output_type": "display_data"
    }
   ],
   "source": [
    "sns.boxplot(data=fareDF, orient=\"h\")\n",
    "plt.title(\"Distribución de Tarifa de Ticket (fare) en el Titanic\", fontsize=14)\n",
    "plt.show()"
   ]
  },
  {
   "cell_type": "markdown",
   "id": "b525856e",
   "metadata": {},
   "source": [
    "##### **BoxPlot: Sibs**\n",
    "\n",
    "Los datos reflejan que la mayoría de las personas a bordo no iban acompañadas de este tipo de familiares, lo cual puede considerarse normal, especialmente en el caso de \"esposo/a\". En cuanto a hermanos, parece común que solo viajara una persona o, en algunos casos, ninguna, con un máximo de dos. Sin embargo, se identifican casos atípicos donde el número de estos familiares varía entre tres y ocho."
   ]
  },
  {
   "cell_type": "code",
   "execution_count": 85,
   "id": "8868a278",
   "metadata": {},
   "outputs": [
    {
     "data": {
      "image/png": "[encoded data removed]",
      "text/plain": [
       "<Figure size 640x480 with 1 Axes>"
      ]
     },
     "metadata": {},
     "output_type": "display_data"
    }
   ],
   "source": [
    "sns.boxplot(data=sibspDF, orient=\"h\")\n",
    "plt.title(\"Distribución de Numero de Hermanos/Esposos (sibs) en el Titanic\", fontsize=14)\n",
    "plt.show()"
   ]
  },
  {
   "cell_type": "markdown",
   "id": "b2ace9f1",
   "metadata": {},
   "source": [
    "##### **BoxPlot: Parch**\n",
    "\n",
    "Al igual que sibs se puede observar el mismo comportamiento con esta variable indicando los casos especiales de 0 padres en caso de niños que iban con niñeras por ejemplo y un máximo de 2 para cualquiera de los familiares padres/hijos con datos atípicos desde 3 a 8 familiares."
   ]
  },
  {
   "cell_type": "code",
   "execution_count": 100,
   "id": "f1fbbd9b",
   "metadata": {},
   "outputs": [
    {
     "data": {
      "image/png": "[encoded data removed]",
      "text/plain": [
       "<Figure size 640x480 with 1 Axes>"
      ]
     },
     "metadata": {},
     "output_type": "display_data"
    }
   ],
   "source": [
    "sns.boxplot(data=parchDF, orient=\"h\")\n",
    "plt.title(\"Distribución de Número de padres/Hijos abordo (sibs) en el Titanic\", fontsize=14)\n",
    "plt.show()"
   ]
  },
  {
   "cell_type": "markdown",
   "id": "3fcb1094-c740-41fa-9712-e25db8e1715a",
   "metadata": {},
   "source": [
    "### Explorar los datos categóricos\n",
    "\n",
    "Realizar gráficas de barras ej. de survived, sex"
   ]
  },
  {
   "cell_type": "markdown",
   "id": "748abc03",
   "metadata": {},
   "source": [
    "##### **BarPlot: Sex**\n",
    "\n",
    "En los resultados vemos que de la cantidad total de pasajeros más del 50% era hombres y el retos mujeres."
   ]
  },
  {
   "cell_type": "code",
   "execution_count": 181,
   "id": "3e9785d3-dd4f-4649-a074-eef7fa68edba",
   "metadata": {
    "tags": []
   },
   "outputs": [
    {
     "data": {
      "image/png": "[encoded data removed]",
      "text/plain": [
       "<Figure size 640x480 with 1 Axes>"
      ]
     },
     "metadata": {},
     "output_type": "display_data"
    }
   ],
   "source": [
    "sex_columns = titanic.filter(like=\"sex_\", axis=1)\n",
    "sns.barplot(sex_columns)\n",
    "plt.title(\"Distribución de Hombres y Mujeres en el Titanic\")\n",
    "plt.ylabel(\"Distribución\")\n",
    "plt.show()"
   ]
  },
  {
   "cell_type": "markdown",
   "id": "44932ad8",
   "metadata": {},
   "source": [
    "##### **BarPlot: Survived**\n",
    "\n",
    "En los resultados vemos que de la cantidad total de pasajeros la mayoría no pudo sobrevivir."
   ]
  },
  {
   "cell_type": "code",
   "execution_count": 182,
   "id": "f147f735",
   "metadata": {},
   "outputs": [
    {
     "data": {
      "image/png": "[encoded data removed]",
      "text/plain": [
       "<Figure size 640x480 with 1 Axes>"
      ]
     },
     "metadata": {},
     "output_type": "display_data"
    }
   ],
   "source": [
    "sns.countplot(data=titanic, x=\"survived\")\n",
    "plt.xlabel(\"Supervivencia\")\n",
    "plt.ylabel(\"Cantidad de pasajeros\")\n",
    "plt.title(\"Distribución de Supervivientes\")\n",
    "plt.xticks([0, 1], ['No sobrevivió', 'Sobrevivió'])\n",
    "plt.show()"
   ]
  },
  {
   "cell_type": "markdown",
   "id": "62088895",
   "metadata": {},
   "source": [
    "### **BarPlot: Embarked**\n",
    "\n",
    "En los resultados se puede observar una distribución clara de los puertos desde los cuales embarcó el Titanic, lo que refleja, en cierta medida, el estatus socioeconómico de los pasajeros. Por ejemplo, según el siguiente [artículo](https://acortar.link/SD2rjR), el puerto de **Southampton** era conocido por recibir a personas elegantemente vestidas, lo que indicaba que la mayoría de los pasajeros eran de clases más altas en el momento de embarcar. Por otro lado, **Cherbourg** fue el puerto más grande del mundo en su época, según este [artículo ](https://acortar.link/Mq1t8i), lo que sugiere que un número significativo de pasajeros abordaron el Titanic desde allí."
   ]
  },
  {
   "cell_type": "code",
   "execution_count": 183,
   "id": "8d363b08",
   "metadata": {},
   "outputs": [
    {
     "data": {
      "image/png": "[encoded data removed]",
      "text/plain": [
       "<Figure size 640x480 with 1 Axes>"
      ]
     },
     "metadata": {},
     "output_type": "display_data"
    }
   ],
   "source": [
    "embarked_columns = titanic.filter(like=\"embarked_\", axis=1)\n",
    "sns.barplot(embarked_columns)\n",
    "plt.title(\"Distribución de Puertos de Embarque del Titanic\")\n",
    "plt.ylabel(\"Distribución\")\n",
    "plt.show()"
   ]
  },
  {
   "cell_type": "markdown",
   "id": "57e3e02d-b685-43ce-ba27-5c6925116896",
   "metadata": {},
   "source": [
    "Contrastar variables categóricas, por ej. survived vs sex con gráfica de barras apiladas (stacked)"
   ]
  },
  {
   "cell_type": "markdown",
   "id": "6f668648",
   "metadata": {},
   "source": [
    "##### **BarPlot: Sex vs Survived**\n",
    "\n",
    "En los datos se observa que la supervivencia se priorizó para las mujeres gran diferencia teniendo relación con los [artículos](https://acortar.link/UQKdGQ) que afirman esta prioridad con el género."
   ]
  },
  {
   "cell_type": "code",
   "execution_count": 186,
   "id": "dcc52b79",
   "metadata": {},
   "outputs": [
    {
     "data": {
      "image/png": "[encoded data removed]",
      "text/plain": [
       "<Figure size 640x480 with 1 Axes>"
      ]
     },
     "metadata": {},
     "output_type": "display_data"
    }
   ],
   "source": [
    "spTitanic = pd.concat([titanic[\"survived\"], sex_columns], axis=1)\n",
    "\n",
    "# Obtener una única columna para 'sex'\n",
    "spTitanic_melted = spTitanic.melt(id_vars=[\"survived\"], value_vars=sex_columns.columns, var_name=\"sex\", value_name=\"value\")\n",
    "\n",
    "# Filtrar solo las filas donde el valor es 1\n",
    "spTitanic_melted = spTitanic_melted[spTitanic_melted[\"value\"] == 1]\n",
    "\n",
    "sns.countplot(data=spTitanic_melted, x=\"survived\", hue=\"sex\")\n",
    "plt.xlabel(\"Supervivencia\")\n",
    "plt.xticks([0, 1], ['No sobrevivió', 'Sobrevivió'])\n",
    "plt.ylabel(\"Cantidad de pasajeros\")\n",
    "plt.title(\"Supervivencia de Mujeres y Hombres\")\n",
    "plt.show()"
   ]
  },
  {
   "cell_type": "markdown",
   "id": "e305de51",
   "metadata": {},
   "source": [
    "##### **BarPlot: Sex vs Pclass**\n",
    "\n",
    "En los resultados podemos observar que la presencia de hombres siempre es mayor a la de mujeres en todas las clases."
   ]
  },
  {
   "cell_type": "code",
   "execution_count": 187,
   "id": "7b7608aa-32a2-495d-bf48-00fa767f9d4a",
   "metadata": {},
   "outputs": [
    {
     "data": {
      "image/png": "[encoded data removed]",
      "text/plain": [
       "<Figure size 640x480 with 1 Axes>"
      ]
     },
     "metadata": {},
     "output_type": "display_data"
    }
   ],
   "source": [
    "spTitanic = pd.concat([titanic[\"pclass\"], sex_columns], axis=1)\n",
    "\n",
    "# Obtener una única columna para 'sex'\n",
    "spTitanic_melted = spTitanic.melt(id_vars=[\"pclass\"], value_vars=sex_columns.columns, var_name=\"sex\", value_name=\"value\")\n",
    "\n",
    "# Filtrar solo las filas donde el valor es 1\n",
    "spTitanic_melted = spTitanic_melted[spTitanic_melted[\"value\"] == 1]\n",
    "\n",
    "sns.countplot(data=spTitanic_melted, x=\"pclass\", hue=\"sex\")\n",
    "plt.xlabel(\"Clase del pasajero\")\n",
    "plt.ylabel(\"Cantidad de pasajeros\")\n",
    "plt.title(\"Cantidad de hombres y mujeres en cada clase\")\n",
    "plt.show()"
   ]
  },
  {
   "cell_type": "markdown",
   "id": "15c0203a",
   "metadata": {},
   "source": [
    "### Reducir la cardinalidad\n",
    "\n",
    "Pueden haber columas con datos categóricos demasiados variados, se podría poner un límite de frecuencia de una categoría y las que no cumplen cambiarles a un valor ötros\", o algo así"
   ]
  },
  {
   "cell_type": "code",
   "execution_count": null,
   "id": "69724afe",
   "metadata": {},
   "outputs": [
    {
     "name": "stdout",
     "output_type": "stream",
     "text": [
      "929\n",
      "186\n",
      "27\n",
      "373\n"
     ]
    }
   ],
   "source": [
    "variationCat=[\"ticket\", \"cabin\", \"boat\", \"home.dest\"]\n",
    "\n",
    "print(titanic.filter(like=variationCat[0]+\"_\", axis=1).shape[1])\n",
    "print(titanic.filter(like=variationCat[1]+\"_\", axis=1).shape[1])\n",
    "print(titanic.filter(like=variationCat[2]+\"_\", axis=1).shape[1])\n",
    "print(titanic.filter(like=variationCat[3]+\"_\", axis=1).shape[1])"
   ]
  },
  {
   "cell_type": "markdown",
   "id": "d2a4dae6",
   "metadata": {},
   "source": [
    "### Eliminar datos atípicos"
   ]
  },
  {
   "cell_type": "code",
   "execution_count": null,
   "id": "14ab8a1b",
   "metadata": {},
   "outputs": [],
   "source": []
  },
  {
   "cell_type": "code",
   "execution_count": null,
   "id": "dfdcc095-38a1-40a2-835f-eeafb88be7d8",
   "metadata": {},
   "outputs": [],
   "source": []
  }
 ],
 "metadata": {
  "kernelspec": {
   "display_name": ".venv",
   "language": "python",
   "name": "python3"
  },
  "language_info": {
   "codemirror_mode": {
    "name": "ipython",
    "version": 3
   },
   "file_extension": ".py",
   "mimetype": "text/x-python",
   "name": "python",
   "nbconvert_exporter": "python",
   "pygments_lexer": "ipython3",
   "version": "3.12.3"
  }
 },
 "nbformat": 4,
 "nbformat_minor": 5
}
