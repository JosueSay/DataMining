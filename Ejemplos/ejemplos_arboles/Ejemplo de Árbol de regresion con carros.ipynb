{
 "cells": [
  {
   "cell_type": "code",
   "execution_count": 16,
   "metadata": {},
   "outputs": [],
   "source": [
    "%matplotlib inline\n",
    "import matplotlib.pyplot as plt\n",
    "import numpy as np\n",
    "import statsmodels.api as sm\n",
    "import statsmodels.stats.diagnostic as smd\n",
    "import pandas as pd\n",
    "import seaborn as sns\n",
    "from sklearn.linear_model import LinearRegression\n",
    "from sklearn import datasets\n",
    "from sklearn.model_selection import train_test_split\n",
    "from sklearn.metrics import mean_squared_error,r2_score\n",
    "import sklearn.metrics as metrics\n",
    "from sklearn.linear_model import Ridge\n",
    "# import seaborn as sns\n",
    "import statsmodels.api as sm\n",
    "import random\n",
    "from sklearn.pipeline import Pipeline\n",
    "from sklearn.model_selection import ShuffleSplit\n",
    "from sklearn.model_selection import cross_validate\n",
    "from sklearn.tree import DecisionTreeRegressor\n",
    "from sklearn.tree import DecisionTreeClassifier\n",
    "from sklearn.tree import plot_tree\n",
    "from sklearn.model_selection import GridSearchCV\n",
    "from sklearn.compose import make_column_selector as selector\n",
    "from sklearn.preprocessing import OneHotEncoder\n",
    "from sklearn.model_selection import LearningCurveDisplay\n",
    "from sklearn.compose import ColumnTransformer\n",
    "plt.rcParams['figure.figsize'] = (15, 9)\n",
    "plt.style.use('ggplot')\n",
    "random.seed(123)"
   ]
  },
  {
   "cell_type": "code",
   "execution_count": 17,
   "metadata": {},
   "outputs": [],
   "source": [
    "carros = pd.read_csv(\"./cars.csv\")"
   ]
  },
  {
   "cell_type": "markdown",
   "metadata": {},
   "source": [
    "***Número de filas:*** 205  \n",
    "***Número de atributos o columnas:*** 26 \n",
    "\n",
    "### Información de los atributos:  \n",
    "\n",
    "|Atributo:|Rango del atributo:|\n",
    "|--------:|:-------------------:|\n",
    "|1. symboling:|-3, -2, -1, 0, 1, 2, 3.|\n",
    "|2. normalized-losses:|numérico 65 hasta 256.|\n",
    "|3. make:|alfa-romero, audi, bmw, chevrolet, dodge, honda, isuzu, jaguar, mazda, mercedes-benz, mercury, mitsubishi, nissan, peugot, plymouth, porsche,  renault, saab, subaru, hastayota, volkswagen, volvo|\n",
    "|4. fuel-type:|diesel, gas.|\n",
    "|5. aspiration:|std, turbo.|\n",
    "|6. num-of-doors:|four, two.|\n",
    "|7. body-style:|hardtop, wagon, sedan, hatchback, convertible.|\n",
    "|8. drive-wheels:|4wd, fwd, rwd.|\n",
    "|9. engine-location:|front, rear.|\n",
    "|10. wheel-base:|numérico desde 86.6 hasta 120.9.|\n",
    "|11. length:|numérico desde 141.1 hasta 208.1.|\n",
    "|12. width:|numérico desde 60.3 hasta 72.3.|\n",
    "|13. height:|numérico desde 47.8 hasta 59.8.|\n",
    "|14. curb-weight:|numérico desde 1488 hasta 4066.|\n",
    "|15. engine-type:|dohc, dohcv, l, ohc, ohcf, ohcv, rotor.|\n",
    "|16. num-of-cylinders:|eight, five, four, six, three, twelve, two.|\n",
    "|17. engine-size:|numérico desde 61 to 326.|\n",
    "|18. fuel-system:|1bbl, 2bbl, 4bbl, idi, mfi, mpfi, spdi, spfi.|\n",
    "|19. bore:|numérico desde 2.54 hasta 3.94.|\n",
    "|20. stroke:|numérico desde 2.07 hasta 4.17.|\n",
    "|21. compression-ratio:|numérico desde 7 hasta 23.|\n",
    "|22. horsepower:|numérico desde 48 hasta 288.|\n",
    "|23. peak-rpm:|numérico desde 4150 hasta 6600.|\n",
    "|24. city-mpg:|numérico desde 13 hasta 49.|\n",
    "|25. highway-mpg:|numérico desde 16 hasta 54.|\n",
    "|26. price:|numérico desde 5118 hasta 45400.|\n",
    "\n"
   ]
  },
  {
   "cell_type": "markdown",
   "metadata": {},
   "source": [
    "## Variable Respuesta:\n",
    "\n",
    "La variable que se pretende predecir es el consumo por galón en ciudad (city_mpg).\n",
    "Separemos en conjuntos de entrenamiento y prueba.\n",
    "\n",
    "## Conjuntos de entrenamiento y prueba.   \n",
    "\n",
    "Se separarán en 70% de los datos en el conjunto de entrenamiento y 30% en el conjunto de prueba, usando un muestreo aleatorio simple.   "
   ]
  },
  {
   "cell_type": "code",
   "execution_count": 18,
   "metadata": {},
   "outputs": [
    {
     "name": "stdout",
     "output_type": "stream",
     "text": [
      "Index(['symboling', 'normalized-losses', 'make', 'fuel-type', 'aspiration',\n",
      "       'num-of-doors', 'body-style', 'drive-wheels', 'engine-location',\n",
      "       'wheel-base', 'length', 'width', 'height', 'curb-weight', 'engine-type',\n",
      "       'num-of-cylinders', 'engine-size', 'fuel-system', 'bore', 'stroke',\n",
      "       'compression-ratio', 'horsepower', 'peak-rpm', 'city-mpg',\n",
      "       'highway-mpg', 'price'],\n",
      "      dtype='object')\n"
     ]
    }
   ],
   "source": [
    "print(carros.columns)"
   ]
  },
  {
   "cell_type": "code",
   "execution_count": 19,
   "metadata": {},
   "outputs": [],
   "source": [
    "y = carros.pop(\"city-mpg\")\n",
    "X = carros"
   ]
  },
  {
   "cell_type": "code",
   "execution_count": 20,
   "metadata": {},
   "outputs": [
    {
     "name": "stdout",
     "output_type": "stream",
     "text": [
      "(143, 25)\n",
      "(62, 25)\n",
      "(143,)\n",
      "(62,)\n"
     ]
    }
   ],
   "source": [
    "X_train, X_test,y_train, y_test = train_test_split(X, y,test_size=0.3,train_size=0.7)\n",
    "print(X_train.shape)\n",
    "print(X_test.shape)\n",
    "print(y_train.shape)\n",
    "print(y_test.shape)"
   ]
  },
  {
   "cell_type": "markdown",
   "metadata": {},
   "source": [
    "## Modelos\n",
    "\n",
    "### Árbol de regresión\n",
    "\n",
    "Haremos un modelo lineal múltiple usando todos los predictores."
   ]
  },
  {
   "cell_type": "markdown",
   "metadata": {},
   "source": [
    "Separamos la variables numéricas de las categóricas"
   ]
  },
  {
   "cell_type": "code",
   "execution_count": 26,
   "metadata": {},
   "outputs": [
    {
     "name": "stdout",
     "output_type": "stream",
     "text": [
      "symboling              int64\n",
      "normalized-losses     object\n",
      "make                  object\n",
      "fuel-type             object\n",
      "aspiration            object\n",
      "num-of-doors          object\n",
      "body-style            object\n",
      "drive-wheels          object\n",
      "engine-location       object\n",
      "wheel-base           float64\n",
      "length               float64\n",
      "width                float64\n",
      "height               float64\n",
      "curb-weight            int64\n",
      "engine-type           object\n",
      "num-of-cylinders      object\n",
      "engine-size            int64\n",
      "fuel-system           object\n",
      "bore                  object\n",
      "stroke                object\n",
      "compression-ratio    float64\n",
      "horsepower            object\n",
      "peak-rpm              object\n",
      "highway-mpg            int64\n",
      "price                 object\n",
      "dtype: object\n",
      "['symboling', 'wheel-base', 'length', 'width', 'height', 'curb-weight', 'engine-size', 'compression-ratio', 'highway-mpg']\n",
      "['normalized-losses', 'make', 'fuel-type', 'aspiration', 'num-of-doors', 'body-style', 'drive-wheels', 'engine-location', 'engine-type', 'num-of-cylinders', 'fuel-system', 'bore', 'stroke', 'horsepower', 'peak-rpm', 'price']\n"
     ]
    }
   ],
   "source": [
    "numerical_columns_selector = selector(dtype_exclude=object)\n",
    "categorical_columns_selector = selector(dtype_include=object)\n",
    "\n",
    "numerical_columns = numerical_columns_selector(carros)\n",
    "categorical_columns = categorical_columns_selector(carros)\n",
    "categorical_columns\n",
    "print(carros.dtypes)\n",
    "print(numerical_columns)\n",
    "print(categorical_columns)"
   ]
  },
  {
   "cell_type": "markdown",
   "metadata": {},
   "source": [
    "Para las categóricas se les hace un OneHotEncoder, en este encoder para cada categoría se crea una variable dicotómica"
   ]
  },
  {
   "cell_type": "code",
   "execution_count": null,
   "metadata": {},
   "outputs": [],
   "source": [
    "categorical_preprocessor = OneHotEncoder(handle_unknown=\"ignore\")\n",
    "preprocessor = ColumnTransformer([\n",
    "    ('one-hot-encoder', categorical_preprocessor, categorical_columns)])\n",
    "    "
   ]
  },
  {
   "cell_type": "markdown",
   "metadata": {},
   "source": [
    "Se hace una tubería, donde se codifican las variables categóricas, y se crea el modelo de árbol de Regresión, luego se tunea el parámetro de max__depth. Se imprime el mejor parámetro"
   ]
  },
  {
   "cell_type": "code",
   "execution_count": null,
   "metadata": {},
   "outputs": [
    {
     "data": {
      "text/plain": [
       "{'regressor__max_depth': np.int64(9)}"
      ]
     },
     "execution_count": 23,
     "metadata": {},
     "output_type": "execute_result"
    }
   ],
   "source": [
    "param_grid = {\"max_depth\": np.arange(2, 10, 1)}\n",
    "pipeline = Pipeline(\n",
    "    [('preprocessor',preprocessor),\n",
    "     ('regressor',DecisionTreeRegressor())])\n",
    "params = [{\n",
    "    \"regressor__max_depth\": np.arange(2, 10, 1)\n",
    "}]\n",
    "modelo1 = GridSearchCV(pipeline, param_grid=params, n_jobs=2, cv=5,scoring=\"neg_root_mean_squared_error\")\n",
    "modelo1.fit(X_train,y_train)\n",
    "modelo1.best_params_"
   ]
  },
  {
   "cell_type": "markdown",
   "metadata": {},
   "source": [
    "Se predice con el mejor modelo"
   ]
  },
  {
   "cell_type": "code",
   "execution_count": 24,
   "metadata": {},
   "outputs": [
    {
     "data": {
      "text/plain": [
       "array([29.40909091, 23.69230769, 16.        , 22.        , 23.69230769,\n",
       "       19.        , 23.69230769, 23.69230769, 15.        , 27.        ,\n",
       "       23.69230769, 29.40909091, 33.        , 19.        , 29.40909091,\n",
       "       29.40909091, 23.69230769, 29.40909091, 24.        , 19.        ,\n",
       "       24.        , 29.40909091, 28.        , 24.        , 29.40909091,\n",
       "       29.40909091, 23.69230769, 23.69230769, 22.        , 16.        ,\n",
       "       29.40909091, 21.        , 37.33333333, 15.        , 19.        ,\n",
       "       17.        , 19.        , 23.69230769, 29.40909091, 19.        ,\n",
       "       16.        , 29.40909091, 29.40909091, 17.        , 29.40909091,\n",
       "       19.        , 17.        , 23.69230769, 23.69230769, 23.69230769,\n",
       "       17.        , 17.        , 23.69230769, 28.        , 23.69230769,\n",
       "       24.        , 29.40909091, 29.40909091, 21.        , 29.40909091,\n",
       "       29.40909091, 17.        ])"
      ]
     },
     "execution_count": 24,
     "metadata": {},
     "output_type": "execute_result"
    }
   ],
   "source": [
    "modelo1_pred = modelo1.predict(X_test)\n",
    "modelo1_pred"
   ]
  }
 ],
 "metadata": {
  "kernelspec": {
   "display_name": ".data_mining_venv",
   "language": "python",
   "name": "python3"
  },
  "language_info": {
   "codemirror_mode": {
    "name": "ipython",
    "version": 3
   },
   "file_extension": ".py",
   "mimetype": "text/x-python",
   "name": "python",
   "nbconvert_exporter": "python",
   "pygments_lexer": "ipython3",
   "version": "3.12.3"
  }
 },
 "nbformat": 4,
 "nbformat_minor": 2
}
